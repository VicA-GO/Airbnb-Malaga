{
 "cells": [
  {
   "cell_type": "code",
   "execution_count": null,
   "id": "d118ccc5-cff6-4186-9815-c10064613a53",
   "metadata": {},
   "outputs": [],
   "source": []
  },
  {
   "cell_type": "markdown",
   "id": "340aa278-c3a3-47c2-b430-abc5a1721f18",
   "metadata": {},
   "source": [
    "## 2. Import the libraries you need into a new notebook, including any necessary modules from scikit-learn."
   ]
  },
  {
   "cell_type": "code",
   "execution_count": 2,
   "id": "fce22a5d-be36-44bc-832e-a4f88bfab7ca",
   "metadata": {},
   "outputs": [],
   "source": [
    "import pandas as pd\n",
    "import numpy as np\n",
    "import seaborn as sns\n",
    "import matplotlib\n",
    "import matplotlib.pyplot as plt\n",
    "import os\n",
    "import sklearn\n",
    "from sklearn.model_selection import train_test_split \n",
    "from sklearn.linear_model import LinearRegression\n",
    "from sklearn.metrics import mean_squared_error, r2_score"
   ]
  },
  {
   "cell_type": "code",
   "execution_count": 3,
   "id": "009bc292-8fc1-4d6a-b3d9-9676b69bf36f",
   "metadata": {},
   "outputs": [],
   "source": [
    "# Creating path\n",
    "path = r'C:\\Users\\Víctor A\\Desktop\\CAREER FOUNDRY\\Immersion Achievement 6 Victor A.Gallardo\\DATA'\n",
    "\n",
    "#Importing Data\n",
    "listings = pd.read_csv(os.path.join(path, 'listings_cleaned.csv'), index_col = False)"
   ]
  },
  {
   "cell_type": "code",
   "execution_count": 4,
   "id": "b25d5ee0-4891-46a9-a416-5949911386cd",
   "metadata": {},
   "outputs": [],
   "source": [
    "# Ensures graphs are displayed\n",
    "%matplotlib inline"
   ]
  },
  {
   "cell_type": "markdown",
   "id": "25f948d3-15fc-4afa-8a57-88bdb1160627",
   "metadata": {},
   "source": [
    "## 3. Clean your data so that it’s ready for analysis."
   ]
  },
  {
   "cell_type": "code",
   "execution_count": 6,
   "id": "76749bc0-db0c-4692-945c-1adc5d0c1d6a",
   "metadata": {},
   "outputs": [],
   "source": [
    "# Creating subframe with relevant columns for the analysis\n",
    "\n",
    "sublistings = listings[['bedrooms', 'beds', 'price']]"
   ]
  },
  {
   "cell_type": "code",
   "execution_count": 7,
   "id": "bd2119f8-1d3f-4b14-95e7-c252fb8b727a",
   "metadata": {},
   "outputs": [
    {
     "data": {
      "text/html": [
       "<div>\n",
       "<style scoped>\n",
       "    .dataframe tbody tr th:only-of-type {\n",
       "        vertical-align: middle;\n",
       "    }\n",
       "\n",
       "    .dataframe tbody tr th {\n",
       "        vertical-align: top;\n",
       "    }\n",
       "\n",
       "    .dataframe thead th {\n",
       "        text-align: right;\n",
       "    }\n",
       "</style>\n",
       "<table border=\"1\" class=\"dataframe\">\n",
       "  <thead>\n",
       "    <tr style=\"text-align: right;\">\n",
       "      <th></th>\n",
       "      <th>bedrooms</th>\n",
       "      <th>beds</th>\n",
       "      <th>price</th>\n",
       "    </tr>\n",
       "  </thead>\n",
       "  <tbody>\n",
       "    <tr>\n",
       "      <th>0</th>\n",
       "      <td>2.0</td>\n",
       "      <td>2.0</td>\n",
       "      <td>178.0</td>\n",
       "    </tr>\n",
       "    <tr>\n",
       "      <th>1</th>\n",
       "      <td>4.0</td>\n",
       "      <td>5.0</td>\n",
       "      <td>219.0</td>\n",
       "    </tr>\n",
       "    <tr>\n",
       "      <th>2</th>\n",
       "      <td>2.0</td>\n",
       "      <td>2.0</td>\n",
       "      <td>141.0</td>\n",
       "    </tr>\n",
       "    <tr>\n",
       "      <th>3</th>\n",
       "      <td>2.0</td>\n",
       "      <td>6.0</td>\n",
       "      <td>162.0</td>\n",
       "    </tr>\n",
       "    <tr>\n",
       "      <th>4</th>\n",
       "      <td>0.0</td>\n",
       "      <td>1.0</td>\n",
       "      <td>53.0</td>\n",
       "    </tr>\n",
       "  </tbody>\n",
       "</table>\n",
       "</div>"
      ],
      "text/plain": [
       "   bedrooms  beds  price\n",
       "0       2.0   2.0  178.0\n",
       "1       4.0   5.0  219.0\n",
       "2       2.0   2.0  141.0\n",
       "3       2.0   6.0  162.0\n",
       "4       0.0   1.0   53.0"
      ]
     },
     "execution_count": 7,
     "metadata": {},
     "output_type": "execute_result"
    }
   ],
   "source": [
    "sublistings.head()"
   ]
  },
  {
   "cell_type": "code",
   "execution_count": 8,
   "id": "daa9547c-efe4-448f-9958-a7bc5fe6bf24",
   "metadata": {},
   "outputs": [
    {
     "data": {
      "text/plain": [
       "(8976, 3)"
      ]
     },
     "execution_count": 8,
     "metadata": {},
     "output_type": "execute_result"
    }
   ],
   "source": [
    "sublistings.shape"
   ]
  },
  {
   "cell_type": "code",
   "execution_count": 9,
   "id": "89a0d0b8-f4b7-407b-a427-96fe3a149a12",
   "metadata": {},
   "outputs": [
    {
     "data": {
      "text/plain": [
       "bedrooms     66\n",
       "beds        327\n",
       "price       390\n",
       "dtype: int64"
      ]
     },
     "execution_count": 9,
     "metadata": {},
     "output_type": "execute_result"
    }
   ],
   "source": [
    "# Check for missing values\n",
    "\n",
    "sublistings.isnull().sum()"
   ]
  },
  {
   "cell_type": "code",
   "execution_count": 10,
   "id": "2eb1a61a-2728-4947-a408-49770ed5e916",
   "metadata": {},
   "outputs": [
    {
     "name": "stderr",
     "output_type": "stream",
     "text": [
      "C:\\Users\\Víctor A\\AppData\\Local\\Temp\\ipykernel_15880\\3190926347.py:3: SettingWithCopyWarning: \n",
      "A value is trying to be set on a copy of a slice from a DataFrame\n",
      "\n",
      "See the caveats in the documentation: https://pandas.pydata.org/pandas-docs/stable/user_guide/indexing.html#returning-a-view-versus-a-copy\n",
      "  sublistings.dropna(subset=['bedrooms', 'beds', 'price'], inplace=True)\n"
     ]
    }
   ],
   "source": [
    "# Removing rows with missing values in the subframe\n",
    "\n",
    "sublistings.dropna(subset=['bedrooms', 'beds', 'price'], inplace=True)"
   ]
  },
  {
   "cell_type": "code",
   "execution_count": 11,
   "id": "50341303-35e9-4e0e-a428-8b4c32c474e4",
   "metadata": {},
   "outputs": [
    {
     "data": {
      "text/plain": [
       "bedrooms    0\n",
       "beds        0\n",
       "price       0\n",
       "dtype: int64"
      ]
     },
     "execution_count": 11,
     "metadata": {},
     "output_type": "execute_result"
    }
   ],
   "source": [
    "sublistings.isnull().sum()"
   ]
  },
  {
   "cell_type": "code",
   "execution_count": 12,
   "id": "c6b87e04-1911-4c41-80c9-87da75e22773",
   "metadata": {},
   "outputs": [
    {
     "data": {
      "text/plain": [
       "5525"
      ]
     },
     "execution_count": 12,
     "metadata": {},
     "output_type": "execute_result"
    }
   ],
   "source": [
    "# Checking for duplicated rows\n",
    "\n",
    "duplicates_count = sublistings.duplicated().sum()\n",
    "duplicates_count"
   ]
  },
  {
   "cell_type": "code",
   "execution_count": 13,
   "id": "38247b96-d236-4c03-8259-6a29adc2e373",
   "metadata": {},
   "outputs": [
    {
     "data": {
      "text/plain": [
       "0"
      ]
     },
     "execution_count": 13,
     "metadata": {},
     "output_type": "execute_result"
    }
   ],
   "source": [
    "# Checking for duplicated rows\n",
    "\n",
    "duplicates_count = listings.duplicated().sum()\n",
    "duplicates_count"
   ]
  },
  {
   "cell_type": "code",
   "execution_count": 14,
   "id": "335f4dd2-521d-4c9e-b093-69e0585d8f26",
   "metadata": {},
   "outputs": [
    {
     "data": {
      "image/png": "[encoded data removed]",
      "text/plain": [
       "<Figure size 640x480 with 1 Axes>"
      ]
     },
     "metadata": {},
     "output_type": "display_data"
    }
   ],
   "source": [
    "# Visualizing the distribution of 'price' to show extreme values\n",
    "\n",
    "sns.histplot(sublistings['price'], bins=25, kde=True)  \n",
    "\n",
    "# Display the plot\n",
    "\n",
    "plt.show()"
   ]
  },
  {
   "cell_type": "code",
   "execution_count": 15,
   "id": "24355430-6a43-426e-a920-a19b93030fd9",
   "metadata": {},
   "outputs": [],
   "source": [
    "# Removing rows where the price is greater than 2000\n",
    "\n",
    "sublistings = sublistings[sublistings['price'] <= 2000]"
   ]
  },
  {
   "cell_type": "code",
   "execution_count": 16,
   "id": "8019d58d-d92a-454c-a783-beb34c9e6d94",
   "metadata": {},
   "outputs": [
    {
     "data": {
      "image/png": "[encoded data removed]",
      "text/plain": [
       "<Figure size 640x480 with 1 Axes>"
      ]
     },
     "metadata": {},
     "output_type": "display_data"
    }
   ],
   "source": [
    "# Visualizing again the distribution of 'price' to show extreme values\n",
    "\n",
    "sns.histplot(sublistings['price'], bins=25, kde=True)  \n",
    "\n",
    "# Display the plot\n",
    "\n",
    "plt.show()"
   ]
  },
  {
   "cell_type": "code",
   "execution_count": 17,
   "id": "f17ebc9b-4051-48cc-9377-1014c474c71a",
   "metadata": {},
   "outputs": [
    {
     "data": {
      "text/plain": [
       "145.8187558465856"
      ]
     },
     "execution_count": 17,
     "metadata": {},
     "output_type": "execute_result"
    }
   ],
   "source": [
    "# Check the mean\n",
    "\n",
    "sublistings['price'].mean()"
   ]
  },
  {
   "cell_type": "code",
   "execution_count": 18,
   "id": "460bca9b-a186-40c7-82b0-798ebd4521b4",
   "metadata": {},
   "outputs": [
    {
     "data": {
      "text/plain": [
       "119.0"
      ]
     },
     "execution_count": 18,
     "metadata": {},
     "output_type": "execute_result"
    }
   ],
   "source": [
    "# Check the median\n",
    "\n",
    "sublistings['price'].median() "
   ]
  },
  {
   "cell_type": "code",
   "execution_count": 19,
   "id": "5219dac3-006e-4c23-b9c9-6dc081e9b3e5",
   "metadata": {},
   "outputs": [
    {
     "data": {
      "text/plain": [
       "1914.0"
      ]
     },
     "execution_count": 19,
     "metadata": {},
     "output_type": "execute_result"
    }
   ],
   "source": [
    "# Check the max\n",
    "\n",
    "sublistings['price'].max() "
   ]
  },
  {
   "cell_type": "code",
   "execution_count": null,
   "id": "5c8a74ff-96ea-4eb8-884f-ba4be083f3c9",
   "metadata": {},
   "outputs": [],
   "source": []
  },
  {
   "cell_type": "markdown",
   "id": "9df1093d-61c4-4ad6-89e8-bafde47c6957",
   "metadata": {},
   "source": [
    "## 4. Explore your data visually (e.g., by way of a scatterplot), looking for variables whose relationship you’d like to test."
   ]
  },
  {
   "cell_type": "code",
   "execution_count": 21,
   "id": "f35c363d-020a-479b-9e5b-8aa953a5039a",
   "metadata": {},
   "outputs": [
    {
     "data": {
      "image/png": "[encoded data removed]",
      "text/plain": [
       "<Figure size 640x480 with 1 Axes>"
      ]
     },
     "metadata": {},
     "output_type": "display_data"
    }
   ],
   "source": [
    "# Create a scatterplot using matplotlib to see how the variables 'bedrooms' and 'price' relate to each other\n",
    "\n",
    "sublistings.plot(x='bedrooms', y='price', style='o')  # The style 'o' creates a scatterplot\n",
    "plt.title('Number of Bedrooms vs Price')  \n",
    "plt.xlabel('Number of Bedrooms')  \n",
    "plt.ylabel('Price')  \n",
    "plt.show()"
   ]
  },
  {
   "cell_type": "code",
   "execution_count": 22,
   "id": "8124c348-1d9e-4f40-994b-3d2a01f4d92b",
   "metadata": {},
   "outputs": [
    {
     "data": {
      "image/png": "[encoded data removed]",
      "text/plain": [
       "<Figure size 640x480 with 1 Axes>"
      ]
     },
     "metadata": {},
     "output_type": "display_data"
    }
   ],
   "source": [
    "# Create a scatterplot using matplotlib to see how the variables 'beds' and 'price' relate to each other\n",
    "\n",
    "sublistings.plot(x='beds', y='price', style='o')  # The style 'o' creates a scatterplot\n",
    "plt.title('Number of Beds vs Price')  \n",
    "plt.xlabel('Number of Beds')  \n",
    "plt.ylabel('Price')  \n",
    "plt.show()"
   ]
  },
  {
   "cell_type": "code",
   "execution_count": null,
   "id": "1347832f-4936-4423-ad04-c06705adfaca",
   "metadata": {},
   "outputs": [],
   "source": []
  },
  {
   "cell_type": "markdown",
   "id": "a67bb518-b680-4260-94c6-3be359869741",
   "metadata": {},
   "source": [
    "## 5. State your hypothesis in a markdown cell within your Jupyter notebook."
   ]
  },
  {
   "cell_type": "markdown",
   "id": "a8a10977-cee7-494b-9c68-b083899ad88f",
   "metadata": {},
   "source": [
    "### Hypothesis: Properties with more beds have higher prices"
   ]
  },
  {
   "cell_type": "markdown",
   "id": "46f6a1b4-f652-483e-bcb1-0e31103df4eb",
   "metadata": {},
   "source": [
    "## 6. Reshape the variables into NumPy arrays, with X being the independent variable and y being the dependent variable."
   ]
  },
  {
   "cell_type": "code",
   "execution_count": 26,
   "id": "8d6d6f6c-3da6-4349-a270-dc47cd097681",
   "metadata": {},
   "outputs": [],
   "source": [
    "# Reshape the variables into NumPy arrays and put them into separate objects\n",
    "\n",
    "X = sublistings['beds'].values.reshape(-1,1)\n",
    "y = sublistings['price'].values.reshape(-1,1)\n"
   ]
  },
  {
   "cell_type": "code",
   "execution_count": 27,
   "id": "b2f45aa2-6ae2-4e7b-b96a-86773b485daf",
   "metadata": {},
   "outputs": [
    {
     "data": {
      "text/plain": [
       "array([[2.],\n",
       "       [5.],\n",
       "       [2.],\n",
       "       ...,\n",
       "       [3.],\n",
       "       [6.],\n",
       "       [1.]])"
      ]
     },
     "execution_count": 27,
     "metadata": {},
     "output_type": "execute_result"
    }
   ],
   "source": [
    "X"
   ]
  },
  {
   "cell_type": "code",
   "execution_count": 28,
   "id": "084da161-bc70-4980-bad6-972ac76ba0fa",
   "metadata": {},
   "outputs": [
    {
     "data": {
      "text/plain": [
       "array([[178.],\n",
       "       [219.],\n",
       "       [141.],\n",
       "       ...,\n",
       "       [134.],\n",
       "       [333.],\n",
       "       [ 30.]])"
      ]
     },
     "execution_count": 28,
     "metadata": {},
     "output_type": "execute_result"
    }
   ],
   "source": [
    "y"
   ]
  },
  {
   "cell_type": "code",
   "execution_count": null,
   "id": "26f0ca85-b9b4-434c-b994-020b14672380",
   "metadata": {},
   "outputs": [],
   "source": []
  },
  {
   "cell_type": "markdown",
   "id": "a3a851ed-7a33-45ee-92f7-b775e4a6c8fa",
   "metadata": {},
   "source": [
    "### 7. Split the data into two sets: a training set and a test set."
   ]
  },
  {
   "cell_type": "code",
   "execution_count": 30,
   "id": "0f908ffa-6c91-45fd-9312-df76490055dd",
   "metadata": {},
   "outputs": [],
   "source": [
    "# Split data into a training set and a test set.\n",
    "\n",
    "X_train, X_test, y_train, y_test = train_test_split(X, y, test_size=0.3, random_state=0)"
   ]
  },
  {
   "cell_type": "markdown",
   "id": "b43599af-39ca-4c20-aadc-1b9b361f3cb4",
   "metadata": {},
   "source": [
    "## 8. Run a linear regression on the data.\n",
    "\n",
    "    First, fit the model you created to the training set.\n",
    "    Then, create a prediction for y on the test set."
   ]
  },
  {
   "cell_type": "code",
   "execution_count": 32,
   "id": "61dcab31-055b-4100-970c-b88f58a6af31",
   "metadata": {},
   "outputs": [],
   "source": [
    "# Create a regression object\n",
    "\n",
    "regression = LinearRegression() "
   ]
  },
  {
   "cell_type": "code",
   "execution_count": 33,
   "id": "34cdc164-3f0a-4599-bb19-9c840a593cd8",
   "metadata": {},
   "outputs": [
    {
     "data": {
      "text/html": [
       "<style>#sk-container-id-1 {\n",
       "  /* Definition of color scheme common for light and dark mode */\n",
       "  --sklearn-color-text: black;\n",
       "  --sklearn-color-line: gray;\n",
       "  /* Definition of color scheme for unfitted estimators */\n",
       "  --sklearn-color-unfitted-level-0: #fff5e6;\n",
       "  --sklearn-color-unfitted-level-1: #f6e4d2;\n",
       "  --sklearn-color-unfitted-level-2: #ffe0b3;\n",
       "  --sklearn-color-unfitted-level-3: chocolate;\n",
       "  /* Definition of color scheme for fitted estimators */\n",
       "  --sklearn-color-fitted-level-0: #f0f8ff;\n",
       "  --sklearn-color-fitted-level-1: #d4ebff;\n",
       "  --sklearn-color-fitted-level-2: #b3dbfd;\n",
       "  --sklearn-color-fitted-level-3: cornflowerblue;\n",
       "\n",
       "  /* Specific color for light theme */\n",
       "  --sklearn-color-text-on-default-background: var(--sg-text-color, var(--theme-code-foreground, var(--jp-content-font-color1, black)));\n",
       "  --sklearn-color-background: var(--sg-background-color, var(--theme-background, var(--jp-layout-color0, white)));\n",
       "  --sklearn-color-border-box: var(--sg-text-color, var(--theme-code-foreground, var(--jp-content-font-color1, black)));\n",
       "  --sklearn-color-icon: #696969;\n",
       "\n",
       "  @media (prefers-color-scheme: dark) {\n",
       "    /* Redefinition of color scheme for dark theme */\n",
       "    --sklearn-color-text-on-default-background: var(--sg-text-color, var(--theme-code-foreground, var(--jp-content-font-color1, white)));\n",
       "    --sklearn-color-background: var(--sg-background-color, var(--theme-background, var(--jp-layout-color0, #111)));\n",
       "    --sklearn-color-border-box: var(--sg-text-color, var(--theme-code-foreground, var(--jp-content-font-color1, white)));\n",
       "    --sklearn-color-icon: #878787;\n",
       "  }\n",
       "}\n",
       "\n",
       "#sk-container-id-1 {\n",
       "  color: var(--sklearn-color-text);\n",
       "}\n",
       "\n",
       "#sk-container-id-1 pre {\n",
       "  padding: 0;\n",
       "}\n",
       "\n",
       "#sk-container-id-1 input.sk-hidden--visually {\n",
       "  border: 0;\n",
       "  clip: rect(1px 1px 1px 1px);\n",
       "  clip: rect(1px, 1px, 1px, 1px);\n",
       "  height: 1px;\n",
       "  margin: -1px;\n",
       "  overflow: hidden;\n",
       "  padding: 0;\n",
       "  position: absolute;\n",
       "  width: 1px;\n",
       "}\n",
       "\n",
       "#sk-container-id-1 div.sk-dashed-wrapped {\n",
       "  border: 1px dashed var(--sklearn-color-line);\n",
       "  margin: 0 0.4em 0.5em 0.4em;\n",
       "  box-sizing: border-box;\n",
       "  padding-bottom: 0.4em;\n",
       "  background-color: var(--sklearn-color-background);\n",
       "}\n",
       "\n",
       "#sk-container-id-1 div.sk-container {\n",
       "  /* jupyter's `normalize.less` sets `[hidden] { display: none; }`\n",
       "     but bootstrap.min.css set `[hidden] { display: none !important; }`\n",
       "     so we also need the `!important` here to be able to override the\n",
       "     default hidden behavior on the sphinx rendered scikit-learn.org.\n",
       "     See: https://github.com/scikit-learn/scikit-learn/issues/21755 */\n",
       "  display: inline-block !important;\n",
       "  position: relative;\n",
       "}\n",
       "\n",
       "#sk-container-id-1 div.sk-text-repr-fallback {\n",
       "  display: none;\n",
       "}\n",
       "\n",
       "div.sk-parallel-item,\n",
       "div.sk-serial,\n",
       "div.sk-item {\n",
       "  /* draw centered vertical line to link estimators */\n",
       "  background-image: linear-gradient(var(--sklearn-color-text-on-default-background), var(--sklearn-color-text-on-default-background));\n",
       "  background-size: 2px 100%;\n",
       "  background-repeat: no-repeat;\n",
       "  background-position: center center;\n",
       "}\n",
       "\n",
       "/* Parallel-specific style estimator block */\n",
       "\n",
       "#sk-container-id-1 div.sk-parallel-item::after {\n",
       "  content: \"\";\n",
       "  width: 100%;\n",
       "  border-bottom: 2px solid var(--sklearn-color-text-on-default-background);\n",
       "  flex-grow: 1;\n",
       "}\n",
       "\n",
       "#sk-container-id-1 div.sk-parallel {\n",
       "  display: flex;\n",
       "  align-items: stretch;\n",
       "  justify-content: center;\n",
       "  background-color: var(--sklearn-color-background);\n",
       "  position: relative;\n",
       "}\n",
       "\n",
       "#sk-container-id-1 div.sk-parallel-item {\n",
       "  display: flex;\n",
       "  flex-direction: column;\n",
       "}\n",
       "\n",
       "#sk-container-id-1 div.sk-parallel-item:first-child::after {\n",
       "  align-self: flex-end;\n",
       "  width: 50%;\n",
       "}\n",
       "\n",
       "#sk-container-id-1 div.sk-parallel-item:last-child::after {\n",
       "  align-self: flex-start;\n",
       "  width: 50%;\n",
       "}\n",
       "\n",
       "#sk-container-id-1 div.sk-parallel-item:only-child::after {\n",
       "  width: 0;\n",
       "}\n",
       "\n",
       "/* Serial-specific style estimator block */\n",
       "\n",
       "#sk-container-id-1 div.sk-serial {\n",
       "  display: flex;\n",
       "  flex-direction: column;\n",
       "  align-items: center;\n",
       "  background-color: var(--sklearn-color-background);\n",
       "  padding-right: 1em;\n",
       "  padding-left: 1em;\n",
       "}\n",
       "\n",
       "\n",
       "/* Toggleable style: style used for estimator/Pipeline/ColumnTransformer box that is\n",
       "clickable and can be expanded/collapsed.\n",
       "- Pipeline and ColumnTransformer use this feature and define the default style\n",
       "- Estimators will overwrite some part of the style using the `sk-estimator` class\n",
       "*/\n",
       "\n",
       "/* Pipeline and ColumnTransformer style (default) */\n",
       "\n",
       "#sk-container-id-1 div.sk-toggleable {\n",
       "  /* Default theme specific background. It is overwritten whether we have a\n",
       "  specific estimator or a Pipeline/ColumnTransformer */\n",
       "  background-color: var(--sklearn-color-background);\n",
       "}\n",
       "\n",
       "/* Toggleable label */\n",
       "#sk-container-id-1 label.sk-toggleable__label {\n",
       "  cursor: pointer;\n",
       "  display: block;\n",
       "  width: 100%;\n",
       "  margin-bottom: 0;\n",
       "  padding: 0.5em;\n",
       "  box-sizing: border-box;\n",
       "  text-align: center;\n",
       "}\n",
       "\n",
       "#sk-container-id-1 label.sk-toggleable__label-arrow:before {\n",
       "  /* Arrow on the left of the label */\n",
       "  content: \"▸\";\n",
       "  float: left;\n",
       "  margin-right: 0.25em;\n",
       "  color: var(--sklearn-color-icon);\n",
       "}\n",
       "\n",
       "#sk-container-id-1 label.sk-toggleable__label-arrow:hover:before {\n",
       "  color: var(--sklearn-color-text);\n",
       "}\n",
       "\n",
       "/* Toggleable content - dropdown */\n",
       "\n",
       "#sk-container-id-1 div.sk-toggleable__content {\n",
       "  max-height: 0;\n",
       "  max-width: 0;\n",
       "  overflow: hidden;\n",
       "  text-align: left;\n",
       "  /* unfitted */\n",
       "  background-color: var(--sklearn-color-unfitted-level-0);\n",
       "}\n",
       "\n",
       "#sk-container-id-1 div.sk-toggleable__content.fitted {\n",
       "  /* fitted */\n",
       "  background-color: var(--sklearn-color-fitted-level-0);\n",
       "}\n",
       "\n",
       "#sk-container-id-1 div.sk-toggleable__content pre {\n",
       "  margin: 0.2em;\n",
       "  border-radius: 0.25em;\n",
       "  color: var(--sklearn-color-text);\n",
       "  /* unfitted */\n",
       "  background-color: var(--sklearn-color-unfitted-level-0);\n",
       "}\n",
       "\n",
       "#sk-container-id-1 div.sk-toggleable__content.fitted pre {\n",
       "  /* unfitted */\n",
       "  background-color: var(--sklearn-color-fitted-level-0);\n",
       "}\n",
       "\n",
       "#sk-container-id-1 input.sk-toggleable__control:checked~div.sk-toggleable__content {\n",
       "  /* Expand drop-down */\n",
       "  max-height: 200px;\n",
       "  max-width: 100%;\n",
       "  overflow: auto;\n",
       "}\n",
       "\n",
       "#sk-container-id-1 input.sk-toggleable__control:checked~label.sk-toggleable__label-arrow:before {\n",
       "  content: \"▾\";\n",
       "}\n",
       "\n",
       "/* Pipeline/ColumnTransformer-specific style */\n",
       "\n",
       "#sk-container-id-1 div.sk-label input.sk-toggleable__control:checked~label.sk-toggleable__label {\n",
       "  color: var(--sklearn-color-text);\n",
       "  background-color: var(--sklearn-color-unfitted-level-2);\n",
       "}\n",
       "\n",
       "#sk-container-id-1 div.sk-label.fitted input.sk-toggleable__control:checked~label.sk-toggleable__label {\n",
       "  background-color: var(--sklearn-color-fitted-level-2);\n",
       "}\n",
       "\n",
       "/* Estimator-specific style */\n",
       "\n",
       "/* Colorize estimator box */\n",
       "#sk-container-id-1 div.sk-estimator input.sk-toggleable__control:checked~label.sk-toggleable__label {\n",
       "  /* unfitted */\n",
       "  background-color: var(--sklearn-color-unfitted-level-2);\n",
       "}\n",
       "\n",
       "#sk-container-id-1 div.sk-estimator.fitted input.sk-toggleable__control:checked~label.sk-toggleable__label {\n",
       "  /* fitted */\n",
       "  background-color: var(--sklearn-color-fitted-level-2);\n",
       "}\n",
       "\n",
       "#sk-container-id-1 div.sk-label label.sk-toggleable__label,\n",
       "#sk-container-id-1 div.sk-label label {\n",
       "  /* The background is the default theme color */\n",
       "  color: var(--sklearn-color-text-on-default-background);\n",
       "}\n",
       "\n",
       "/* On hover, darken the color of the background */\n",
       "#sk-container-id-1 div.sk-label:hover label.sk-toggleable__label {\n",
       "  color: var(--sklearn-color-text);\n",
       "  background-color: var(--sklearn-color-unfitted-level-2);\n",
       "}\n",
       "\n",
       "/* Label box, darken color on hover, fitted */\n",
       "#sk-container-id-1 div.sk-label.fitted:hover label.sk-toggleable__label.fitted {\n",
       "  color: var(--sklearn-color-text);\n",
       "  background-color: var(--sklearn-color-fitted-level-2);\n",
       "}\n",
       "\n",
       "/* Estimator label */\n",
       "\n",
       "#sk-container-id-1 div.sk-label label {\n",
       "  font-family: monospace;\n",
       "  font-weight: bold;\n",
       "  display: inline-block;\n",
       "  line-height: 1.2em;\n",
       "}\n",
       "\n",
       "#sk-container-id-1 div.sk-label-container {\n",
       "  text-align: center;\n",
       "}\n",
       "\n",
       "/* Estimator-specific */\n",
       "#sk-container-id-1 div.sk-estimator {\n",
       "  font-family: monospace;\n",
       "  border: 1px dotted var(--sklearn-color-border-box);\n",
       "  border-radius: 0.25em;\n",
       "  box-sizing: border-box;\n",
       "  margin-bottom: 0.5em;\n",
       "  /* unfitted */\n",
       "  background-color: var(--sklearn-color-unfitted-level-0);\n",
       "}\n",
       "\n",
       "#sk-container-id-1 div.sk-estimator.fitted {\n",
       "  /* fitted */\n",
       "  background-color: var(--sklearn-color-fitted-level-0);\n",
       "}\n",
       "\n",
       "/* on hover */\n",
       "#sk-container-id-1 div.sk-estimator:hover {\n",
       "  /* unfitted */\n",
       "  background-color: var(--sklearn-color-unfitted-level-2);\n",
       "}\n",
       "\n",
       "#sk-container-id-1 div.sk-estimator.fitted:hover {\n",
       "  /* fitted */\n",
       "  background-color: var(--sklearn-color-fitted-level-2);\n",
       "}\n",
       "\n",
       "/* Specification for estimator info (e.g. \"i\" and \"?\") */\n",
       "\n",
       "/* Common style for \"i\" and \"?\" */\n",
       "\n",
       ".sk-estimator-doc-link,\n",
       "a:link.sk-estimator-doc-link,\n",
       "a:visited.sk-estimator-doc-link {\n",
       "  float: right;\n",
       "  font-size: smaller;\n",
       "  line-height: 1em;\n",
       "  font-family: monospace;\n",
       "  background-color: var(--sklearn-color-background);\n",
       "  border-radius: 1em;\n",
       "  height: 1em;\n",
       "  width: 1em;\n",
       "  text-decoration: none !important;\n",
       "  margin-left: 1ex;\n",
       "  /* unfitted */\n",
       "  border: var(--sklearn-color-unfitted-level-1) 1pt solid;\n",
       "  color: var(--sklearn-color-unfitted-level-1);\n",
       "}\n",
       "\n",
       ".sk-estimator-doc-link.fitted,\n",
       "a:link.sk-estimator-doc-link.fitted,\n",
       "a:visited.sk-estimator-doc-link.fitted {\n",
       "  /* fitted */\n",
       "  border: var(--sklearn-color-fitted-level-1) 1pt solid;\n",
       "  color: var(--sklearn-color-fitted-level-1);\n",
       "}\n",
       "\n",
       "/* On hover */\n",
       "div.sk-estimator:hover .sk-estimator-doc-link:hover,\n",
       ".sk-estimator-doc-link:hover,\n",
       "div.sk-label-container:hover .sk-estimator-doc-link:hover,\n",
       ".sk-estimator-doc-link:hover {\n",
       "  /* unfitted */\n",
       "  background-color: var(--sklearn-color-unfitted-level-3);\n",
       "  color: var(--sklearn-color-background);\n",
       "  text-decoration: none;\n",
       "}\n",
       "\n",
       "div.sk-estimator.fitted:hover .sk-estimator-doc-link.fitted:hover,\n",
       ".sk-estimator-doc-link.fitted:hover,\n",
       "div.sk-label-container:hover .sk-estimator-doc-link.fitted:hover,\n",
       ".sk-estimator-doc-link.fitted:hover {\n",
       "  /* fitted */\n",
       "  background-color: var(--sklearn-color-fitted-level-3);\n",
       "  color: var(--sklearn-color-background);\n",
       "  text-decoration: none;\n",
       "}\n",
       "\n",
       "/* Span, style for the box shown on hovering the info icon */\n",
       ".sk-estimator-doc-link span {\n",
       "  display: none;\n",
       "  z-index: 9999;\n",
       "  position: relative;\n",
       "  font-weight: normal;\n",
       "  right: .2ex;\n",
       "  padding: .5ex;\n",
       "  margin: .5ex;\n",
       "  width: min-content;\n",
       "  min-width: 20ex;\n",
       "  max-width: 50ex;\n",
       "  color: var(--sklearn-color-text);\n",
       "  box-shadow: 2pt 2pt 4pt #999;\n",
       "  /* unfitted */\n",
       "  background: var(--sklearn-color-unfitted-level-0);\n",
       "  border: .5pt solid var(--sklearn-color-unfitted-level-3);\n",
       "}\n",
       "\n",
       ".sk-estimator-doc-link.fitted span {\n",
       "  /* fitted */\n",
       "  background: var(--sklearn-color-fitted-level-0);\n",
       "  border: var(--sklearn-color-fitted-level-3);\n",
       "}\n",
       "\n",
       ".sk-estimator-doc-link:hover span {\n",
       "  display: block;\n",
       "}\n",
       "\n",
       "/* \"?\"-specific style due to the `<a>` HTML tag */\n",
       "\n",
       "#sk-container-id-1 a.estimator_doc_link {\n",
       "  float: right;\n",
       "  font-size: 1rem;\n",
       "  line-height: 1em;\n",
       "  font-family: monospace;\n",
       "  background-color: var(--sklearn-color-background);\n",
       "  border-radius: 1rem;\n",
       "  height: 1rem;\n",
       "  width: 1rem;\n",
       "  text-decoration: none;\n",
       "  /* unfitted */\n",
       "  color: var(--sklearn-color-unfitted-level-1);\n",
       "  border: var(--sklearn-color-unfitted-level-1) 1pt solid;\n",
       "}\n",
       "\n",
       "#sk-container-id-1 a.estimator_doc_link.fitted {\n",
       "  /* fitted */\n",
       "  border: var(--sklearn-color-fitted-level-1) 1pt solid;\n",
       "  color: var(--sklearn-color-fitted-level-1);\n",
       "}\n",
       "\n",
       "/* On hover */\n",
       "#sk-container-id-1 a.estimator_doc_link:hover {\n",
       "  /* unfitted */\n",
       "  background-color: var(--sklearn-color-unfitted-level-3);\n",
       "  color: var(--sklearn-color-background);\n",
       "  text-decoration: none;\n",
       "}\n",
       "\n",
       "#sk-container-id-1 a.estimator_doc_link.fitted:hover {\n",
       "  /* fitted */\n",
       "  background-color: var(--sklearn-color-fitted-level-3);\n",
       "}\n",
       "</style><div id=\"sk-container-id-1\" class=\"sk-top-container\"><div class=\"sk-text-repr-fallback\"><pre>LinearRegression()</pre><b>In a Jupyter environment, please rerun this cell to show the HTML representation or trust the notebook. <br />On GitHub, the HTML representation is unable to render, please try loading this page with nbviewer.org.</b></div><div class=\"sk-container\" hidden><div class=\"sk-item\"><div class=\"sk-estimator fitted sk-toggleable\"><input class=\"sk-toggleable__control sk-hidden--visually\" id=\"sk-estimator-id-1\" type=\"checkbox\" checked><label for=\"sk-estimator-id-1\" class=\"sk-toggleable__label fitted sk-toggleable__label-arrow fitted\">&nbsp;&nbsp;LinearRegression<a class=\"sk-estimator-doc-link fitted\" rel=\"noreferrer\" target=\"_blank\" href=\"https://scikit-learn.org/1.4/modules/generated/sklearn.linear_model.LinearRegression.html\">?<span>Documentation for LinearRegression</span></a><span class=\"sk-estimator-doc-link fitted\">i<span>Fitted</span></span></label><div class=\"sk-toggleable__content fitted\"><pre>LinearRegression()</pre></div> </div></div></div></div>"
      ],
      "text/plain": [
       "LinearRegression()"
      ]
     },
     "execution_count": 33,
     "metadata": {},
     "output_type": "execute_result"
    }
   ],
   "source": [
    "# Fit the regression object onto the training set.\n",
    "\n",
    "regression.fit(X_train, y_train)"
   ]
  },
  {
   "cell_type": "code",
   "execution_count": 34,
   "id": "01d39749-585b-485b-ad50-166eeca2d41d",
   "metadata": {},
   "outputs": [],
   "source": [
    "# Predict the values of y using X.\n",
    "\n",
    "y_predicted = regression.predict(X_test)"
   ]
  },
  {
   "cell_type": "code",
   "execution_count": null,
   "id": "671d0721-5b7f-4663-b6f8-6091ae7621bb",
   "metadata": {},
   "outputs": [],
   "source": []
  },
  {
   "cell_type": "markdown",
   "id": "ac987421-f699-470a-88f3-fc6422680cfb",
   "metadata": {},
   "source": [
    "## 9. Create a plot that shows the regression line on the test set."
   ]
  },
  {
   "cell_type": "code",
   "execution_count": 36,
   "id": "a479a32a-4a54-4126-b2eb-ea4458d11796",
   "metadata": {},
   "outputs": [
    {
     "data": {
      "image/png": "[encoded data removed]",
      "text/plain": [
       "<Figure size 640x480 with 1 Axes>"
      ]
     },
     "metadata": {},
     "output_type": "display_data"
    }
   ],
   "source": [
    "# Create a plot that shows the regression line from the model on the test set.\n",
    "\n",
    "plot_test = plt\n",
    "plot_test.scatter(X_test, y_test, color='gray', s=15)  # Real data points\n",
    "plot_test.plot(X_test, y_predicted, color='red', linewidth=3)  # Regression line\n",
    "plot_test.title('Beds vs Price (Test set)')  # Adjusted title\n",
    "plot_test.xlabel('Number of Beds')  # Adjusted x-label\n",
    "plot_test.ylabel('Price')  # Adjusted y-label\n",
    "plot_test.show()"
   ]
  },
  {
   "cell_type": "markdown",
   "id": "e314eeae-165f-4227-a990-e03de7b025f6",
   "metadata": {},
   "source": [
    "## 10. Write your own interpretation of how well the line appears to fit the data in a markdown cell."
   ]
  },
  {
   "cell_type": "markdown",
   "id": "3434f81e-392e-4a2c-bf30-3759dc777566",
   "metadata": {},
   "source": [
    "### The line indicates a positive correlation between the number of beds and the price. As the number of beds increases, the price generally tends to increase as well.\n",
    "### The wide spread of prices for properties with fewer beds suggest that other factors might be influencing the prices\n",
    "### The regression line is not a perfect prediction of price. The points below the line for properties with more than 10 beds indicates that the model is not very precise"
   ]
  },
  {
   "cell_type": "markdown",
   "id": "d3651321-0f52-4f61-aac9-10bb43dcb927",
   "metadata": {},
   "source": [
    "## 11. Check the model performance statistics—MSE and R2 score."
   ]
  },
  {
   "cell_type": "code",
   "execution_count": 76,
   "id": "afd233d5-1233-48ad-ba8c-4fc648d51b0e",
   "metadata": {},
   "outputs": [
    {
     "name": "stdout",
     "output_type": "stream",
     "text": [
      "Slope: [[28.04926182]]\n",
      "Intercept: [76.66524582]\n",
      "Mean squared error: 9830.463158123157\n",
      "R2 score: 0.2515821534192819\n"
     ]
    }
   ],
   "source": [
    "# Create objects that contain the model summary statistics.\n",
    "\n",
    "rmse = mean_squared_error(y_test, y_predicted) \n",
    "r2 = r2_score(y_test, y_predicted)  \n",
    "\n",
    "\n",
    "# Print the model summary statistics. \n",
    "\n",
    "print('Slope:', regression.coef_)\n",
    "print('Intercept:', regression.intercept_)\n",
    "print('Mean squared error:', rmse)\n",
    "print('R2 score:', r2)"
   ]
  },
  {
   "cell_type": "code",
   "execution_count": null,
   "id": "03a23715-34a7-4b8b-a83a-f1fbe9b298bd",
   "metadata": {},
   "outputs": [],
   "source": []
  },
  {
   "cell_type": "markdown",
   "id": "64f89dd4-b2e6-41c6-a34a-6c831d9441f1",
   "metadata": {},
   "source": [
    "## 12. Compare the predicted y values with the actual y values in a dataframe."
   ]
  },
  {
   "cell_type": "code",
   "execution_count": 79,
   "id": "19119aa3-f4db-428e-abd2-7682ff258a3b",
   "metadata": {},
   "outputs": [
    {
     "data": {
      "text/plain": [
       "array([[104.71450763],\n",
       "       [ 76.66524582],\n",
       "       [104.71450763],\n",
       "       ...,\n",
       "       [160.81303127],\n",
       "       [104.71450763],\n",
       "       [160.81303127]])"
      ]
     },
     "execution_count": 79,
     "metadata": {},
     "output_type": "execute_result"
    }
   ],
   "source": [
    "y_predicted"
   ]
  },
  {
   "cell_type": "code",
   "execution_count": 81,
   "id": "23a67397-6522-4597-bc6b-4698a020eff2",
   "metadata": {},
   "outputs": [
    {
     "data": {
      "text/html": [
       "<div>\n",
       "<style scoped>\n",
       "    .dataframe tbody tr th:only-of-type {\n",
       "        vertical-align: middle;\n",
       "    }\n",
       "\n",
       "    .dataframe tbody tr th {\n",
       "        vertical-align: top;\n",
       "    }\n",
       "\n",
       "    .dataframe thead th {\n",
       "        text-align: right;\n",
       "    }\n",
       "</style>\n",
       "<table border=\"1\" class=\"dataframe\">\n",
       "  <thead>\n",
       "    <tr style=\"text-align: right;\">\n",
       "      <th></th>\n",
       "      <th>Actual</th>\n",
       "      <th>Predicted</th>\n",
       "    </tr>\n",
       "  </thead>\n",
       "  <tbody>\n",
       "    <tr>\n",
       "      <th>0</th>\n",
       "      <td>136.0</td>\n",
       "      <td>104.714508</td>\n",
       "    </tr>\n",
       "    <tr>\n",
       "      <th>1</th>\n",
       "      <td>200.0</td>\n",
       "      <td>76.665246</td>\n",
       "    </tr>\n",
       "    <tr>\n",
       "      <th>2</th>\n",
       "      <td>113.0</td>\n",
       "      <td>104.714508</td>\n",
       "    </tr>\n",
       "    <tr>\n",
       "      <th>3</th>\n",
       "      <td>231.0</td>\n",
       "      <td>188.862293</td>\n",
       "    </tr>\n",
       "    <tr>\n",
       "      <th>4</th>\n",
       "      <td>63.0</td>\n",
       "      <td>104.714508</td>\n",
       "    </tr>\n",
       "    <tr>\n",
       "      <th>5</th>\n",
       "      <td>125.0</td>\n",
       "      <td>104.714508</td>\n",
       "    </tr>\n",
       "    <tr>\n",
       "      <th>6</th>\n",
       "      <td>300.0</td>\n",
       "      <td>244.960817</td>\n",
       "    </tr>\n",
       "    <tr>\n",
       "      <th>7</th>\n",
       "      <td>104.0</td>\n",
       "      <td>188.862293</td>\n",
       "    </tr>\n",
       "    <tr>\n",
       "      <th>8</th>\n",
       "      <td>111.0</td>\n",
       "      <td>132.763769</td>\n",
       "    </tr>\n",
       "    <tr>\n",
       "      <th>9</th>\n",
       "      <td>115.0</td>\n",
       "      <td>160.813031</td>\n",
       "    </tr>\n",
       "    <tr>\n",
       "      <th>10</th>\n",
       "      <td>84.0</td>\n",
       "      <td>160.813031</td>\n",
       "    </tr>\n",
       "    <tr>\n",
       "      <th>11</th>\n",
       "      <td>364.0</td>\n",
       "      <td>469.354911</td>\n",
       "    </tr>\n",
       "    <tr>\n",
       "      <th>12</th>\n",
       "      <td>130.0</td>\n",
       "      <td>104.714508</td>\n",
       "    </tr>\n",
       "    <tr>\n",
       "      <th>13</th>\n",
       "      <td>240.0</td>\n",
       "      <td>188.862293</td>\n",
       "    </tr>\n",
       "    <tr>\n",
       "      <th>14</th>\n",
       "      <td>200.0</td>\n",
       "      <td>104.714508</td>\n",
       "    </tr>\n",
       "    <tr>\n",
       "      <th>15</th>\n",
       "      <td>194.0</td>\n",
       "      <td>160.813031</td>\n",
       "    </tr>\n",
       "    <tr>\n",
       "      <th>16</th>\n",
       "      <td>141.0</td>\n",
       "      <td>132.763769</td>\n",
       "    </tr>\n",
       "    <tr>\n",
       "      <th>17</th>\n",
       "      <td>295.0</td>\n",
       "      <td>76.665246</td>\n",
       "    </tr>\n",
       "    <tr>\n",
       "      <th>18</th>\n",
       "      <td>69.0</td>\n",
       "      <td>132.763769</td>\n",
       "    </tr>\n",
       "    <tr>\n",
       "      <th>19</th>\n",
       "      <td>220.0</td>\n",
       "      <td>188.862293</td>\n",
       "    </tr>\n",
       "    <tr>\n",
       "      <th>20</th>\n",
       "      <td>79.0</td>\n",
       "      <td>132.763769</td>\n",
       "    </tr>\n",
       "    <tr>\n",
       "      <th>21</th>\n",
       "      <td>82.0</td>\n",
       "      <td>132.763769</td>\n",
       "    </tr>\n",
       "    <tr>\n",
       "      <th>22</th>\n",
       "      <td>112.0</td>\n",
       "      <td>132.763769</td>\n",
       "    </tr>\n",
       "    <tr>\n",
       "      <th>23</th>\n",
       "      <td>153.0</td>\n",
       "      <td>160.813031</td>\n",
       "    </tr>\n",
       "    <tr>\n",
       "      <th>24</th>\n",
       "      <td>100.0</td>\n",
       "      <td>104.714508</td>\n",
       "    </tr>\n",
       "    <tr>\n",
       "      <th>25</th>\n",
       "      <td>154.0</td>\n",
       "      <td>76.665246</td>\n",
       "    </tr>\n",
       "    <tr>\n",
       "      <th>26</th>\n",
       "      <td>284.0</td>\n",
       "      <td>160.813031</td>\n",
       "    </tr>\n",
       "    <tr>\n",
       "      <th>27</th>\n",
       "      <td>118.0</td>\n",
       "      <td>160.813031</td>\n",
       "    </tr>\n",
       "    <tr>\n",
       "      <th>28</th>\n",
       "      <td>162.0</td>\n",
       "      <td>104.714508</td>\n",
       "    </tr>\n",
       "    <tr>\n",
       "      <th>29</th>\n",
       "      <td>161.0</td>\n",
       "      <td>160.813031</td>\n",
       "    </tr>\n",
       "  </tbody>\n",
       "</table>\n",
       "</div>"
      ],
      "text/plain": [
       "    Actual   Predicted\n",
       "0    136.0  104.714508\n",
       "1    200.0   76.665246\n",
       "2    113.0  104.714508\n",
       "3    231.0  188.862293\n",
       "4     63.0  104.714508\n",
       "5    125.0  104.714508\n",
       "6    300.0  244.960817\n",
       "7    104.0  188.862293\n",
       "8    111.0  132.763769\n",
       "9    115.0  160.813031\n",
       "10    84.0  160.813031\n",
       "11   364.0  469.354911\n",
       "12   130.0  104.714508\n",
       "13   240.0  188.862293\n",
       "14   200.0  104.714508\n",
       "15   194.0  160.813031\n",
       "16   141.0  132.763769\n",
       "17   295.0   76.665246\n",
       "18    69.0  132.763769\n",
       "19   220.0  188.862293\n",
       "20    79.0  132.763769\n",
       "21    82.0  132.763769\n",
       "22   112.0  132.763769\n",
       "23   153.0  160.813031\n",
       "24   100.0  104.714508\n",
       "25   154.0   76.665246\n",
       "26   284.0  160.813031\n",
       "27   118.0  160.813031\n",
       "28   162.0  104.714508\n",
       "29   161.0  160.813031"
      ]
     },
     "execution_count": 81,
     "metadata": {},
     "output_type": "execute_result"
    }
   ],
   "source": [
    "# Create a dataframe comparing the actual and predicted values of y.\n",
    "\n",
    "data = pd.DataFrame({'Actual': y_test.flatten(), 'Predicted': y_predicted.flatten()})\n",
    "\n",
    "\n",
    "# Display the first 30 rows of the dataframe\n",
    "\n",
    "data.head(30)"
   ]
  },
  {
   "cell_type": "code",
   "execution_count": 85,
   "id": "36f650d1-3914-493a-9fbc-8d3f764097e4",
   "metadata": {},
   "outputs": [],
   "source": [
    "# Predict the y values for the training set\n",
    "\n",
    "y_predicted_train = regression.predict(X_train) "
   ]
  },
  {
   "cell_type": "code",
   "execution_count": 87,
   "id": "aa3e07f8-6d00-4209-84ab-f5172334d530",
   "metadata": {},
   "outputs": [],
   "source": [
    "rmse = mean_squared_error(y_train, y_predicted_train)\n",
    "r2 = r2_score(y_train, y_predicted_train)"
   ]
  },
  {
   "cell_type": "code",
   "execution_count": 89,
   "id": "800db7dd-dc70-4751-9a7d-05697559efc6",
   "metadata": {},
   "outputs": [
    {
     "name": "stdout",
     "output_type": "stream",
     "text": [
      "Slope: [[28.04926182]]\n",
      "Mean squared error:  11668.500870067604\n",
      "R2 score:  0.21717985221488045\n"
     ]
    }
   ],
   "source": [
    "print('Slope:' ,regression.coef_)\n",
    "print('Mean squared error: ', rmse)\n",
    "print('R2 score: ', r2)"
   ]
  },
  {
   "cell_type": "code",
   "execution_count": 91,
   "id": "72e61b6b-f070-46e9-b3f3-f69c8c15f59e",
   "metadata": {},
   "outputs": [
    {
     "data": {
      "image/png": "[encoded data removed]",
      "text/plain": [
       "<Figure size 640x480 with 1 Axes>"
      ]
     },
     "metadata": {},
     "output_type": "display_data"
    }
   ],
   "source": [
    "# Visualizing the training set results\n",
    "\n",
    "plot_train = plt\n",
    "plot_train.scatter(X_train, y_train, color='green', s=15)  # Actual training data points\n",
    "plot_train.plot(X_train, y_predicted_train, color='red', linewidth=3)  # Regression line\n",
    "plot_train.title('Number of Beds vs Price (Train set)')\n",
    "plot_train.xlabel('Number of Beds')\n",
    "plot_train.ylabel('Price')\n",
    "plot_train.show()"
   ]
  },
  {
   "cell_type": "code",
   "execution_count": null,
   "id": "5e7b9260-c838-499b-9d7d-8e5da170e39c",
   "metadata": {},
   "outputs": [],
   "source": []
  },
  {
   "cell_type": "markdown",
   "id": "b848ee07-eaab-43d4-8c39-0f49082e5f21",
   "metadata": {},
   "source": [
    "## 13. Include your thoughts on how well the model performed on the test set in a markdown cell.\n",
    "\n",
    "    Include any reflections you have on the impact of possible data bias."
   ]
  },
  {
   "cell_type": "markdown",
   "id": "2a34c7b8-4075-49df-9523-62336ce94925",
   "metadata": {},
   "source": [
    "### The overall performance of the model shows significant areas for future improvement.\n",
    "### The *slope* indicates that for each additional bed, the average price increases by 28.05.\n",
    "### The *intercept* indicates that 76.67 is the base price when there are zero beds.\n",
    "### The *MSE* of 9830.46 is relatively high, suggesting considerable error in the model's predictions.\n",
    "### The *R2* of 0.2516 indicates that only 25.16% of the price variability is explained by the model, suggesting that the model does not capture the complexity of the variability.\n",
    "### Observing the actual and predicted values, we also see that the model both underestimates and overestimates the actual prices.\n",
    "### Regarding the impact of data bias, it seems evident and reasonable that the price cannot be explained solely by the number of beds, and there are other factors influencing it. There are also some outliers in both price and beds (50) that must be influencing the model.\n",
    "### To improve the model, we should include more variables."
   ]
  },
  {
   "cell_type": "code",
   "execution_count": null,
   "id": "2ffeb142-f333-42e8-98bb-9654bb044352",
   "metadata": {},
   "outputs": [],
   "source": []
  },
  {
   "cell_type": "code",
   "execution_count": null,
   "id": "7bdae316-2986-482d-be8d-088b05b59f29",
   "metadata": {},
   "outputs": [],
   "source": []
  },
  {
   "cell_type": "code",
   "execution_count": null,
   "id": "41bc9bd4-1cb8-483e-910d-5f78a58f6e22",
   "metadata": {},
   "outputs": [],
   "source": []
  }
 ],
 "metadata": {
  "kernelspec": {
   "display_name": "Python 3 (ipykernel)",
   "language": "python",
   "name": "python3"
  },
  "language_info": {
   "codemirror_mode": {
    "name": "ipython",
    "version": 3
   },
   "file_extension": ".py",
   "mimetype": "text/x-python",
   "name": "python",
   "nbconvert_exporter": "python",
   "pygments_lexer": "ipython3",
   "version": "3.11.7"
  }
 },
 "nbformat": 4,
 "nbformat_minor": 5
}
