{
 "cells": [
  {
   "cell_type": "markdown",
   "id": "2cbea263-7423-43d0-84ea-a676c98d65b1",
   "metadata": {},
   "source": [
    "## 3. Import the libraries you need for your analysis"
   ]
  },
  {
   "cell_type": "code",
   "execution_count": 4,
   "id": "6a75932c-850d-4e39-b7ef-5c07618f1345",
   "metadata": {},
   "outputs": [],
   "source": [
    "import pandas as pd\n",
    "import numpy as np\n",
    "import seaborn as sns\n",
    "import matplotlib\n",
    "import os\n",
    "import folium\n",
    "import json"
   ]
  },
  {
   "cell_type": "markdown",
   "id": "1cf051bc-59d1-42bc-9805-750ac3c223c3",
   "metadata": {},
   "source": [
    "## 4. Find a JSON/GeoJSONfile containing location data that corresponds to the location data in your student project data"
   ]
  },
  {
   "cell_type": "code",
   "execution_count": 9,
   "id": "50b00788-f868-463e-9820-0a0cce151d1a",
   "metadata": {},
   "outputs": [],
   "source": [
    "# Creating path\n",
    "path = r'C:\\Users\\Víctor A\\Desktop\\CAREER FOUNDRY\\Immersion Achievement 6 Victor A.Gallardo\\DATA'\n",
    "\n",
    "#Importing Data\n",
    "listings = pd.read_csv(os.path.join(path, 'listings_cleaned.csv'), index_col = False)\n",
    "\n",
    "# Importing GEOJSON\n",
    "neighbourhoods = r'C:\\Users\\Víctor A\\Desktop\\CAREER FOUNDRY\\Immersion Achievement 6 Victor A.Gallardo\\DATA\\neighbourhoods.geojson'"
   ]
  },
  {
   "cell_type": "markdown",
   "id": "0b2cd415-92d5-47a1-8fb5-6f029454409d",
   "metadata": {},
   "source": [
    "## 5. Wrangle your project data to meet the needs of your analysis. "
   ]
  },
  {
   "cell_type": "code",
   "execution_count": 36,
   "id": "2d36a371-e372-41a7-92a5-b9d4943d3851",
   "metadata": {},
   "outputs": [],
   "source": [
    "# Creating subset with the required columns\n",
    "\n",
    "subset = listings[['neighbourhood_cleansed', 'latitude', 'longitude', 'price']]"
   ]
  },
  {
   "cell_type": "code",
   "execution_count": 38,
   "id": "1e8abc69-a0b0-4262-b7d1-79ed60b88149",
   "metadata": {},
   "outputs": [
    {
     "data": {
      "text/html": [
       "<div>\n",
       "<style scoped>\n",
       "    .dataframe tbody tr th:only-of-type {\n",
       "        vertical-align: middle;\n",
       "    }\n",
       "\n",
       "    .dataframe tbody tr th {\n",
       "        vertical-align: top;\n",
       "    }\n",
       "\n",
       "    .dataframe thead th {\n",
       "        text-align: right;\n",
       "    }\n",
       "</style>\n",
       "<table border=\"1\" class=\"dataframe\">\n",
       "  <thead>\n",
       "    <tr style=\"text-align: right;\">\n",
       "      <th></th>\n",
       "      <th>neighbourhood_cleansed</th>\n",
       "      <th>latitude</th>\n",
       "      <th>longitude</th>\n",
       "      <th>price</th>\n",
       "    </tr>\n",
       "  </thead>\n",
       "  <tbody>\n",
       "    <tr>\n",
       "      <th>0</th>\n",
       "      <td>Centro</td>\n",
       "      <td>36.722069</td>\n",
       "      <td>-4.420914</td>\n",
       "      <td>178.0</td>\n",
       "    </tr>\n",
       "    <tr>\n",
       "      <th>1</th>\n",
       "      <td>Centro</td>\n",
       "      <td>36.727180</td>\n",
       "      <td>-4.413260</td>\n",
       "      <td>219.0</td>\n",
       "    </tr>\n",
       "    <tr>\n",
       "      <th>2</th>\n",
       "      <td>Centro</td>\n",
       "      <td>36.727710</td>\n",
       "      <td>-4.412884</td>\n",
       "      <td>141.0</td>\n",
       "    </tr>\n",
       "    <tr>\n",
       "      <th>3</th>\n",
       "      <td>Centro</td>\n",
       "      <td>36.719241</td>\n",
       "      <td>-4.420821</td>\n",
       "      <td>162.0</td>\n",
       "    </tr>\n",
       "    <tr>\n",
       "      <th>4</th>\n",
       "      <td>Palma-Palmilla</td>\n",
       "      <td>36.737370</td>\n",
       "      <td>-4.434390</td>\n",
       "      <td>53.0</td>\n",
       "    </tr>\n",
       "  </tbody>\n",
       "</table>\n",
       "</div>"
      ],
      "text/plain": [
       "  neighbourhood_cleansed   latitude  longitude  price\n",
       "0                 Centro  36.722069  -4.420914  178.0\n",
       "1                 Centro  36.727180  -4.413260  219.0\n",
       "2                 Centro  36.727710  -4.412884  141.0\n",
       "3                 Centro  36.719241  -4.420821  162.0\n",
       "4         Palma-Palmilla  36.737370  -4.434390   53.0"
      ]
     },
     "execution_count": 38,
     "metadata": {},
     "output_type": "execute_result"
    }
   ],
   "source": [
    "subset.head()"
   ]
  },
  {
   "cell_type": "code",
   "execution_count": 44,
   "id": "1f9a0c8e-6961-473c-a174-61a95a098860",
   "metadata": {},
   "outputs": [
    {
     "data": {
      "text/plain": [
       "neighbourhood_cleansed\n",
       "Centro                  5618\n",
       "Este                     879\n",
       "Carretera de Cadiz       856\n",
       "Cruz De Humilladero      424\n",
       "Bailen-Miraflores        265\n",
       "Churriana                149\n",
       "Palma-Palmilla           117\n",
       "Teatinos-Universidad     115\n",
       "Ciudad Jardin             85\n",
       "Puerto de la Torre        48\n",
       "Campanillas               30\n",
       "Name: count, dtype: int64"
      ]
     },
     "execution_count": 44,
     "metadata": {},
     "output_type": "execute_result"
    }
   ],
   "source": [
    "# Checking neighbourhoods\n",
    "\n",
    "subset['neighbourhood_cleansed'].value_counts()"
   ]
  },
  {
   "cell_type": "markdown",
   "id": "18006e5b-174b-40b6-937a-4dee46242c57",
   "metadata": {},
   "source": [
    "## 6. Clean your data set—watch for missing and extreme values."
   ]
  },
  {
   "cell_type": "code",
   "execution_count": 47,
   "id": "c27f8d22-002b-471d-b74c-e9b5e7fb6fb4",
   "metadata": {},
   "outputs": [
    {
     "data": {
      "image/png": "[encoded data removed]",
      "text/plain": [
       "<Figure size 640x480 with 1 Axes>"
      ]
     },
     "metadata": {},
     "output_type": "display_data"
    }
   ],
   "source": [
    "# Creating a boxplot to identify outliers in the 'price' column\n",
    "\n",
    "sns.boxplot(data=subset, x='price')\n",
    "plt.title('Boxplot to Identify Outliers in Price')\n",
    "plt.xlabel('Price')\n",
    "plt.show()"
   ]
  },
  {
   "cell_type": "code",
   "execution_count": 49,
   "id": "e9b7a7cc-e794-4083-9abd-f3c024124033",
   "metadata": {},
   "outputs": [],
   "source": [
    "# Removing rows where 'price' is greater than 2000\n",
    "\n",
    "subset = subset[subset['price'] <= 2000]"
   ]
  },
  {
   "cell_type": "code",
   "execution_count": null,
   "id": "ea3a8f72-edd9-4f83-9e1f-193467abaf6b",
   "metadata": {},
   "outputs": [],
   "source": []
  },
  {
   "cell_type": "markdown",
   "id": "4d9f7b53-aa83-4544-9400-301b71953d0a",
   "metadata": {},
   "source": [
    "## 7. Create a choropleth map using a variable of your choice."
   ]
  },
  {
   "cell_type": "code",
   "execution_count": 52,
   "id": "b5a1d6f3-b76c-4a56-9eaf-a404a6f8bb08",
   "metadata": {},
   "outputs": [],
   "source": [
    "# Calculating average price by neighbourhood\n",
    "\n",
    "avg_price_by_neighbourhood = subset.groupby('neighbourhood_cleansed')['price'].mean().reset_index()"
   ]
  },
  {
   "cell_type": "code",
   "execution_count": 61,
   "id": "20acd2c5-9221-4997-b492-5719bbadef0c",
   "metadata": {},
   "outputs": [],
   "source": [
    "# Load the geojson file (assuming it is already imported and stored in `neighbourhoods`)\n",
    "with open(neighbourhoods) as f:\n",
    "    neighbourhood_geo = json.load(f)\n",
    "\n",
    "# Setup a folium map centered around Malaga, Spain\n",
    "map = folium.Map(location=[36.7213, -4.4214], zoom_start=12)  \n",
    "\n",
    "# Adding the Choropleth layer\n",
    "folium.Choropleth(\n",
    "    geo_data=neighbourhood_geo,\n",
    "    name='choropleth',\n",
    "    data=avg_price_by_neighbourhood,\n",
    "    columns=['neighbourhood_cleansed', 'price'],\n",
    "    key_on='feature.properties.neighbourhood', \n",
    "    fill_color='YlOrRd',  \n",
    "    fill_opacity=0.7,\n",
    "    line_opacity=0.2,\n",
    "    legend_name='Average Price per Neighbourhood'\n",
    ").add_to(map)\n",
    "\n",
    "folium.LayerControl().add_to(map)\n",
    "\n",
    "# Save the map\n",
    "map.save(r'C:\\Users\\Víctor A\\Desktop\\CAREER FOUNDRY\\Immersion Achievement 6 Victor A.Gallardo\\VISUALIZATIONS\\neighbourhood_price_map.html')\n"
   ]
  },
  {
   "cell_type": "code",
   "execution_count": null,
   "id": "5827245f-ef90-4074-8a34-ce9e5da4ce95",
   "metadata": {},
   "outputs": [],
   "source": []
  },
  {
   "cell_type": "markdown",
   "id": "b88dedcc-1487-48f0-a47e-a2c40461a55c",
   "metadata": {},
   "source": [
    "## 8. Discuss the results and what they mean in a markdown section.\n",
    "\n",
    "    Does the analysis answer any of your existing research questions?\n",
    "    Does the analysis lead you to any new research questions?\n"
   ]
  },
  {
   "cell_type": "markdown",
   "id": "4a0cd459-b983-4937-99e9-e9f40bb76230",
   "metadata": {},
   "source": [
    "#### The choropleth map displays the average price in each neighborhood, addressing one of the research questions:\n",
    "#### \"Are there specific neighborhoods with higher average property prices?\"\n",
    "#### It shows that, counterintuitively, the peripheral neighborhoods have a higher average price. This can be explained by the fact that properties in the city center, despite being more numerous and having closer access to various services and amenities, tend to be smaller in size. In future analyses, we can confirm this by including the number of bedrooms or property types."
   ]
  },
  {
   "cell_type": "code",
   "execution_count": null,
   "id": "6674a87e-c596-46e0-b602-df78ab5bad17",
   "metadata": {},
   "outputs": [],
   "source": []
  },
  {
   "cell_type": "code",
   "execution_count": null,
   "id": "5416b979-453b-4782-acb0-ec159c38cf4c",
   "metadata": {},
   "outputs": [],
   "source": []
  },
  {
   "cell_type": "code",
   "execution_count": null,
   "id": "faef06db-7add-4205-835a-2532d922807a",
   "metadata": {},
   "outputs": [],
   "source": []
  },
  {
   "cell_type": "code",
   "execution_count": null,
   "id": "b8f0bf28-9a22-4e12-9291-d08e600fa2e2",
   "metadata": {},
   "outputs": [],
   "source": []
  },
  {
   "cell_type": "code",
   "execution_count": null,
   "id": "36aa8878-4685-46c0-8850-9f804ac7cde5",
   "metadata": {},
   "outputs": [],
   "source": []
  }
 ],
 "metadata": {
  "kernelspec": {
   "display_name": "Python 3 (ipykernel)",
   "language": "python",
   "name": "python3"
  },
  "language_info": {
   "codemirror_mode": {
    "name": "ipython",
    "version": 3
   },
   "file_extension": ".py",
   "mimetype": "text/x-python",
   "name": "python",
   "nbconvert_exporter": "python",
   "pygments_lexer": "ipython3",
   "version": "3.11.7"
  }
 },
 "nbformat": 4,
 "nbformat_minor": 5
}
